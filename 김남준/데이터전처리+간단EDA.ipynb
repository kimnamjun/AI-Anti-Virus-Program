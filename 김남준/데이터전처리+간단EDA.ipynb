{
  "nbformat": 4,
  "nbformat_minor": 0,
  "metadata": {
    "colab": {
      "name": "데이터 전처리 + 간단 EDA.ipynb",
      "provenance": [],
      "collapsed_sections": []
    },
    "kernelspec": {
      "display_name": "Python 3",
      "name": "python3"
    },
    "language_info": {
      "name": "python"
    }
  },
  "cells": [
    {
      "cell_type": "code",
      "metadata": {
        "id": "QCn2AVKUazJ-"
      },
      "source": [
        "import json\n",
        "import pandas as pd"
      ],
      "execution_count": 1,
      "outputs": []
    },
    {
      "cell_type": "markdown",
      "metadata": {
        "id": "c34JUzEZyzTL"
      },
      "source": [
        "# 데이터 전처리"
      ]
    },
    {
      "cell_type": "code",
      "metadata": {
        "id": "vWxAWZ9M88Gb",
        "colab": {
          "base_uri": "https://localhost:8080/"
        },
        "outputId": "79bea49f-71b6-4c7d-8bd2-122c21210e62"
      },
      "source": [
        "table = {'sha256': list(), 'label': list(), 'entropy': list(), 'name': list(), 'size': list(), 'imports0': list(), 'imports1': list()}\n",
        "functions_no_name, functions_dll_name = dict(), dict()\n",
        "\n",
        "for n in range(6):\n",
        "    num = 0\n",
        "    with open(f'/content/drive/MyDrive/최종프로젝트_7조/dataset/train_features_{n}.jsonl') as file:\n",
        "        # jsonl 파일에서 json 파일 읽기\n",
        "        while True:\n",
        "            line = file.readline()\n",
        "            if not line:\n",
        "                break\n",
        "            line_json = json.loads(line)\n",
        "\n",
        "            # sha256, label 컬럼 추가\n",
        "            table['sha256'].append(line_json['sha256'])    \n",
        "            table['label'].append(line_json['label'])\n",
        "\n",
        "            # entropy, name, size 컬럼 추가\n",
        "            entropy, name, size = list(), list(), list()\n",
        "            for sec in line_json['section']['sections']:\n",
        "                entropy.append(round(sec['entropy'], 4))\n",
        "                name.append(sec['name'])\n",
        "                size.append(sec['size'])\n",
        "            \n",
        "            # imports 내 dll과 함수명 라벨 인코딩 후 추가\n",
        "            imports0, imports1 = list(), list()\n",
        "            for key, value in line_json['imports'].items():\n",
        "                for val in value:\n",
        "                    if val not in functions_no_name:\n",
        "                        functions_no_name[val] = len(functions_no_name) + 1\n",
        "                    if f'{key}_{val}' not in functions_dll_name:\n",
        "                        functions_dll_name[f'{key}_{val}'] = len(functions_dll_name) + 1\n",
        "                    imports0.append(functions_no_name[val])\n",
        "                    imports1.append(functions_dll_name[f'{key}_{val}'])\n",
        "            \n",
        "            table['entropy'].append(entropy)\n",
        "            table['name'].append(name)\n",
        "            table['size'].append(size)\n",
        "            table['imports0'].append(imports0)\n",
        "            table['imports1'].append(imports1)\n",
        "\n",
        "            num += 1\n",
        "            if num % 1000 == 0:\n",
        "                print(f'\\rjsonl{n} : {num}', end='')\n",
        "        print(f'\\rjsonl{n} : {num}')\n",
        "\n",
        "train_df = pd.DataFrame(table)\n",
        "train_df['cond1'] = train_df['size'].map(lambda x: 1 if sum(map(lambda y: 0 if y else 1, x)) else 0)\n",
        "train_df['cond2'] = train_df['entropy'].map(lambda x: 1 if sum(map(lambda y: 0 if 0 < y < 7 else 1, x)) else 0)\n",
        "train_df['cond_1or2'] = train_df['cond1'] | train_df['cond2']\n",
        "\n",
        "print('함수 이름 개수 :', len(functions_no_name))\n",
        "print('dll명 + 함수 이름 개수 :', len(functions_dll_name))"
      ],
      "execution_count": 2,
      "outputs": [
        {
          "output_type": "stream",
          "name": "stdout",
          "text": [
            "jsonl0 : 50000\n",
            "jsonl1 : 170000\n",
            "jsonl2 : 170000\n",
            "jsonl3 : 170000\n",
            "jsonl4 : 170000\n",
            "jsonl5 : 170000\n",
            "함수 이름 개수 : 3605003\n",
            "dll명 + 함수 이름 개수 : 5642322\n"
          ]
        }
      ]
    },
    {
      "cell_type": "code",
      "metadata": {
        "colab": {
          "base_uri": "https://localhost:8080/",
          "height": 736
        },
        "id": "Ch9uDUKUxdPP",
        "outputId": "c16f72bf-99dc-46c6-f1d5-137bc23946de"
      },
      "source": [
        "train_df"
      ],
      "execution_count": 3,
      "outputs": [
        {
          "output_type": "execute_result",
          "data": {
            "text/html": [
              "<div>\n",
              "<style scoped>\n",
              "    .dataframe tbody tr th:only-of-type {\n",
              "        vertical-align: middle;\n",
              "    }\n",
              "\n",
              "    .dataframe tbody tr th {\n",
              "        vertical-align: top;\n",
              "    }\n",
              "\n",
              "    .dataframe thead th {\n",
              "        text-align: right;\n",
              "    }\n",
              "</style>\n",
              "<table border=\"1\" class=\"dataframe\">\n",
              "  <thead>\n",
              "    <tr style=\"text-align: right;\">\n",
              "      <th></th>\n",
              "      <th>sha256</th>\n",
              "      <th>label</th>\n",
              "      <th>entropy</th>\n",
              "      <th>name</th>\n",
              "      <th>size</th>\n",
              "      <th>imports0</th>\n",
              "      <th>imports1</th>\n",
              "      <th>cond1</th>\n",
              "      <th>cond2</th>\n",
              "      <th>cond_1or2</th>\n",
              "    </tr>\n",
              "  </thead>\n",
              "  <tbody>\n",
              "    <tr>\n",
              "      <th>0</th>\n",
              "      <td>0abb4fda7d5b13801d63bee53e5e256be43e141faa077a...</td>\n",
              "      <td>0</td>\n",
              "      <td>[6.5322, 5.4331, 1.7424, -0.0, 5.0209]</td>\n",
              "      <td>[.text, .rdata, .data, .rsro, .rsrc]</td>\n",
              "      <td>[26624, 6656, 512, 0, 27648]</td>\n",
              "      <td>[1, 2, 3, 4, 5, 6, 7, 8, 9, 10, 11, 12, 13, 14...</td>\n",
              "      <td>[1, 2, 3, 4, 5, 6, 7, 8, 9, 10, 11, 12, 13, 14...</td>\n",
              "      <td>1</td>\n",
              "      <td>1</td>\n",
              "      <td>1</td>\n",
              "    </tr>\n",
              "    <tr>\n",
              "      <th>1</th>\n",
              "      <td>d4206650743b3d519106dea10a38a55c30467c3d9f7875...</td>\n",
              "      <td>0</td>\n",
              "      <td>[-0.0, 7.9237, 4.1467]</td>\n",
              "      <td>[UPX0, UPX1, .rsrc]</td>\n",
              "      <td>[0, 288768, 5632]</td>\n",
              "      <td>[53, 142, 157, 158, 159, 160, 131, 115, 151]</td>\n",
              "      <td>[157, 158, 159, 160, 161, 162, 163, 164, 165]</td>\n",
              "      <td>1</td>\n",
              "      <td>1</td>\n",
              "      <td>1</td>\n",
              "    </tr>\n",
              "    <tr>\n",
              "      <th>2</th>\n",
              "      <td>c9cafff8a596ba8a80bafb4ba8ae6f2ef3329d95b85f15...</td>\n",
              "      <td>0</td>\n",
              "      <td>[6.8229, 6.2047, 3.6912]</td>\n",
              "      <td>[.text, .data, .rsrc]</td>\n",
              "      <td>[455680, 8192, 39424]</td>\n",
              "      <td>[161, 162, 163, 164, 165, 166, 167, 168, 169, ...</td>\n",
              "      <td>[166, 167, 168, 169, 170, 171, 172, 173, 174, ...</td>\n",
              "      <td>0</td>\n",
              "      <td>0</td>\n",
              "      <td>0</td>\n",
              "    </tr>\n",
              "    <tr>\n",
              "      <th>3</th>\n",
              "      <td>7f513818bcc276c531af2e641c597744da807e21cc1160...</td>\n",
              "      <td>0</td>\n",
              "      <td>[6.5993, 4.1286, -0.0, 4.6462, -0.0, 2.0491, -...</td>\n",
              "      <td>[CODE, DATA, BSS, .idata, .tls, .rdata, .reloc...</td>\n",
              "      <td>[36864, 1024, 0, 2560, 0, 512, 0, 10240]</td>\n",
              "      <td>[440, 60, 87, 648, 742, 137, 257, 743]</td>\n",
              "      <td>[747, 748, 749, 750, 751, 752, 753, 754]</td>\n",
              "      <td>1</td>\n",
              "      <td>1</td>\n",
              "      <td>1</td>\n",
              "    </tr>\n",
              "    <tr>\n",
              "      <th>4</th>\n",
              "      <td>ca65e1c387a4cc9e7d8a8ce12bf1bcf9f534c9032b9d95...</td>\n",
              "      <td>0</td>\n",
              "      <td>[6.5914, 4.0991, 7.9861]</td>\n",
              "      <td>[.text, .data, .rsrc]</td>\n",
              "      <td>[34304, 1024, 1116672]</td>\n",
              "      <td>[142, 203, 213, 214, 254, 257, 744, 197, 140, ...</td>\n",
              "      <td>[142, 208, 218, 219, 259, 262, 755, 202, 140, ...</td>\n",
              "      <td>0</td>\n",
              "      <td>1</td>\n",
              "      <td>1</td>\n",
              "    </tr>\n",
              "    <tr>\n",
              "      <th>...</th>\n",
              "      <td>...</td>\n",
              "      <td>...</td>\n",
              "      <td>...</td>\n",
              "      <td>...</td>\n",
              "      <td>...</td>\n",
              "      <td>...</td>\n",
              "      <td>...</td>\n",
              "      <td>...</td>\n",
              "      <td>...</td>\n",
              "      <td>...</td>\n",
              "    </tr>\n",
              "    <tr>\n",
              "      <th>899995</th>\n",
              "      <td>fffe4814bd4e333d91f710df8ec2e56e31ff8afb13099b...</td>\n",
              "      <td>1</td>\n",
              "      <td>[6.2354, 6.5561, -0.0, 5.077, 3.5596, 4.8273]</td>\n",
              "      <td>[.text, .data, .bss, .idata, .rsrc, .reloc]</td>\n",
              "      <td>[4608, 115712, 0, 2048, 5120, 512]</td>\n",
              "      <td>[23, 31, 320, 294, 394, 10, 52, 54, 389, 7169,...</td>\n",
              "      <td>[23, 31, 325, 299, 399, 10, 52, 54, 394, 8734,...</td>\n",
              "      <td>1</td>\n",
              "      <td>1</td>\n",
              "      <td>1</td>\n",
              "    </tr>\n",
              "    <tr>\n",
              "      <th>899996</th>\n",
              "      <td>fffe8eafb43ce2181cb124413f2d54bf12ab99815922ab...</td>\n",
              "      <td>1</td>\n",
              "      <td>[4.7255, -0.0, 4.2237]</td>\n",
              "      <td>[.text, .data, .rsrc]</td>\n",
              "      <td>[45056, 0, 24576]</td>\n",
              "      <td>[7982, 5753, 7918, 5891, 4568, 8533, 8536, 792...</td>\n",
              "      <td>[9719, 18376, 18377, 9722, 10456, 10470, 10475...</td>\n",
              "      <td>1</td>\n",
              "      <td>1</td>\n",
              "      <td>1</td>\n",
              "    </tr>\n",
              "    <tr>\n",
              "      <th>899997</th>\n",
              "      <td>ffff49525f240d58e198ca4e08ea1a7fe1632bf0411950...</td>\n",
              "      <td>-1</td>\n",
              "      <td>[5.8094, -0.0, 4.0115]</td>\n",
              "      <td>[.text, .data, .rsrc]</td>\n",
              "      <td>[147456, 4096, 12288]</td>\n",
              "      <td>[8940, 8501, 55789, 7902, 7903, 8502, 7904, 79...</td>\n",
              "      <td>[10954, 10409, 78314, 10411, 10412, 10413, 104...</td>\n",
              "      <td>0</td>\n",
              "      <td>1</td>\n",
              "      <td>1</td>\n",
              "    </tr>\n",
              "    <tr>\n",
              "      <th>899998</th>\n",
              "      <td>ffff9a65324d628e3ef0a830f5460fda18acaa02279158...</td>\n",
              "      <td>1</td>\n",
              "      <td>[5.6962, -0.0, 4.7162]</td>\n",
              "      <td>[.text, .data, .rsrc]</td>\n",
              "      <td>[28672, 4096, 266240]</td>\n",
              "      <td>[7902, 7903, 7904, 8507, 7908, 7910, 7912, 851...</td>\n",
              "      <td>[10411, 10412, 10416, 10419, 10423, 10426, 104...</td>\n",
              "      <td>0</td>\n",
              "      <td>1</td>\n",
              "      <td>1</td>\n",
              "    </tr>\n",
              "    <tr>\n",
              "      <th>899999</th>\n",
              "      <td>ffffe3ba2c2484d07b7104bcd8ce3da8f92e21f6d41b8d...</td>\n",
              "      <td>1</td>\n",
              "      <td>[5.8064, 0.1623, 1.4057, 3.9147, 4.6137, 2.7517]</td>\n",
              "      <td>[.text, .rdata, .data, .idata, .reloc, .edata]</td>\n",
              "      <td>[1536, 84, 172, 620, 152, 64]</td>\n",
              "      <td>[17, 66133, 23, 39, 1010, 44, 773, 2189, 10308...</td>\n",
              "      <td>[8056, 91597, 8048, 35337, 36119, 12305, 19132...</td>\n",
              "      <td>0</td>\n",
              "      <td>0</td>\n",
              "      <td>0</td>\n",
              "    </tr>\n",
              "  </tbody>\n",
              "</table>\n",
              "<p>900000 rows × 10 columns</p>\n",
              "</div>"
            ],
            "text/plain": [
              "                                                   sha256  ...  cond_1or2\n",
              "0       0abb4fda7d5b13801d63bee53e5e256be43e141faa077a...  ...          1\n",
              "1       d4206650743b3d519106dea10a38a55c30467c3d9f7875...  ...          1\n",
              "2       c9cafff8a596ba8a80bafb4ba8ae6f2ef3329d95b85f15...  ...          0\n",
              "3       7f513818bcc276c531af2e641c597744da807e21cc1160...  ...          1\n",
              "4       ca65e1c387a4cc9e7d8a8ce12bf1bcf9f534c9032b9d95...  ...          1\n",
              "...                                                   ...  ...        ...\n",
              "899995  fffe4814bd4e333d91f710df8ec2e56e31ff8afb13099b...  ...          1\n",
              "899996  fffe8eafb43ce2181cb124413f2d54bf12ab99815922ab...  ...          1\n",
              "899997  ffff49525f240d58e198ca4e08ea1a7fe1632bf0411950...  ...          1\n",
              "899998  ffff9a65324d628e3ef0a830f5460fda18acaa02279158...  ...          1\n",
              "899999  ffffe3ba2c2484d07b7104bcd8ce3da8f92e21f6d41b8d...  ...          0\n",
              "\n",
              "[900000 rows x 10 columns]"
            ]
          },
          "metadata": {},
          "execution_count": 3
        }
      ]
    },
    {
      "cell_type": "code",
      "metadata": {
        "id": "_GLfDJM4ShRb",
        "colab": {
          "base_uri": "https://localhost:8080/"
        },
        "outputId": "d1b31c91-ac53-4c7b-97c3-fcd5ee71713f"
      },
      "source": [
        "table = {'sha256': list(), 'label': list(), 'entropy': list(), 'name': list(), 'size': list(), 'imports0': list(), 'imports1': list()}\n",
        "\n",
        "num = 0\n",
        "with open(f'/content/drive/MyDrive/최종프로젝트_7조/dataset/train_features_{n}.jsonl') as file:\n",
        "    while True:\n",
        "        line = file.readline()\n",
        "        if not line:\n",
        "            break\n",
        "        line_json = json.loads(line)\n",
        "\n",
        "        table['sha256'].append(line_json['sha256'])    \n",
        "        table['label'].append(line_json['label'])\n",
        "\n",
        "        entropy, name, size = list(), list(), list()\n",
        "        for sec in line_json['section']['sections']:\n",
        "            entropy.append(round(sec['entropy'], 4))\n",
        "            name.append(sec['name'])\n",
        "            size.append(sec['size'])\n",
        "        \n",
        "        # imports 내 dll과 함수명 라벨 인코딩 후 추가\n",
        "        # train에서 보지 못한 dll과 함수들은 -1로 처리\n",
        "        imports0, imports1 = list(), list()\n",
        "        for key, value in line_json['imports'].items():\n",
        "            for val in value:\n",
        "                imports0.append(functions_no_name[val] if val in functions_no_name else -1)\n",
        "                imports1.append(functions_dll_name[f'{key}_{val}'] if f'{key}_{val}' in functions_dll_name else -1)\n",
        "        \n",
        "        table['entropy'].append(entropy)\n",
        "        table['name'].append(name)\n",
        "        table['size'].append(size)\n",
        "        table['imports0'].append(imports0)\n",
        "        table['imports1'].append(imports1)\n",
        "\n",
        "        num += 1\n",
        "        if num % 1000 == 0:\n",
        "            print(f'\\rjsonl_test : {num}', end='')\n",
        "    print(f'\\rjsonl_test : {num}')\n",
        "\n",
        "test_df = pd.DataFrame(table)\n",
        "test_df['cond1'] = test_df['size'].map(lambda x: 1 if sum(map(lambda y: 0 if y else 1, x)) else 0)\n",
        "test_df['cond2'] = test_df['entropy'].map(lambda x: 1 if sum(map(lambda y: 0 if 0 < y < 7 else 1, x)) else 0)\n",
        "test_df['cond_1or2'] = test_df['cond1'] | test_df['cond2']"
      ],
      "execution_count": 4,
      "outputs": [
        {
          "output_type": "stream",
          "name": "stdout",
          "text": [
            "jsonl_test : 170000\n"
          ]
        }
      ]
    },
    {
      "cell_type": "code",
      "metadata": {
        "colab": {
          "base_uri": "https://localhost:8080/",
          "height": 753
        },
        "id": "w3SEkyEQxhxi",
        "outputId": "a927bf53-cc49-4cef-cafe-02f03205dbca"
      },
      "source": [
        "test_df"
      ],
      "execution_count": 5,
      "outputs": [
        {
          "output_type": "execute_result",
          "data": {
            "text/html": [
              "<div>\n",
              "<style scoped>\n",
              "    .dataframe tbody tr th:only-of-type {\n",
              "        vertical-align: middle;\n",
              "    }\n",
              "\n",
              "    .dataframe tbody tr th {\n",
              "        vertical-align: top;\n",
              "    }\n",
              "\n",
              "    .dataframe thead th {\n",
              "        text-align: right;\n",
              "    }\n",
              "</style>\n",
              "<table border=\"1\" class=\"dataframe\">\n",
              "  <thead>\n",
              "    <tr style=\"text-align: right;\">\n",
              "      <th></th>\n",
              "      <th>sha256</th>\n",
              "      <th>label</th>\n",
              "      <th>entropy</th>\n",
              "      <th>name</th>\n",
              "      <th>size</th>\n",
              "      <th>imports0</th>\n",
              "      <th>imports1</th>\n",
              "      <th>cond1</th>\n",
              "      <th>cond2</th>\n",
              "      <th>cond_1or2</th>\n",
              "    </tr>\n",
              "  </thead>\n",
              "  <tbody>\n",
              "    <tr>\n",
              "      <th>0</th>\n",
              "      <td>000154a86a617128b26fabf904e5705e17d2247ca38405...</td>\n",
              "      <td>1</td>\n",
              "      <td>[6.6916, 5.8193, 4.6977, 3.8303, 6.695]</td>\n",
              "      <td>[.text, .rdata, .data, .rsrc, .reloc]</td>\n",
              "      <td>[301568, 123392, 10752, 1536, 18432]</td>\n",
              "      <td>[367, 54, 420, 69317, 13959, 18, 394, 10, 412,...</td>\n",
              "      <td>[372, 54, 425, 97462, 19445, 18, 399, 10, 417,...</td>\n",
              "      <td>0</td>\n",
              "      <td>0</td>\n",
              "      <td>0</td>\n",
              "    </tr>\n",
              "    <tr>\n",
              "      <th>1</th>\n",
              "      <td>0003de45dfae52bdf19b846e7cae96cf2a5375a8147d9a...</td>\n",
              "      <td>-1</td>\n",
              "      <td>[6.6215, 5.0712, 6.1064, 4.3759, 3.7024]</td>\n",
              "      <td>[.text, .rdata, .data, .rsrc, .reloc]</td>\n",
              "      <td>[283136, 50176, 13824, 1536, 49152]</td>\n",
              "      <td>[309, 1861, 955, 142871, 18, 394, 420, 34, 153...</td>\n",
              "      <td>[314, 2122, 966, 213703, 18, 399, 425, 34, 173...</td>\n",
              "      <td>0</td>\n",
              "      <td>0</td>\n",
              "      <td>0</td>\n",
              "    </tr>\n",
              "    <tr>\n",
              "      <th>2</th>\n",
              "      <td>0003e6f98f4cb8a10fd64b06d3f48b5ffee4e331f06999...</td>\n",
              "      <td>1</td>\n",
              "      <td>[7.9866, 5.0466, 1.2588, -0.0, 2.1966]</td>\n",
              "      <td>[.text, .rdata, DATA, 3fba5, .rsrc]</td>\n",
              "      <td>[581632, 4096, 4096, 4096, 86016]</td>\n",
              "      <td>[122602, 150854, 7010, 2072, 412, 60, 356, 389...</td>\n",
              "      <td>[817223, 837034, 8533, 2392, 417, 60, 361, 394...</td>\n",
              "      <td>0</td>\n",
              "      <td>1</td>\n",
              "      <td>1</td>\n",
              "    </tr>\n",
              "    <tr>\n",
              "      <th>3</th>\n",
              "      <td>0004d5441cc954466cef2b89414aa24d7ab63426326da2...</td>\n",
              "      <td>0</td>\n",
              "      <td>[5.6532, 0.2343, 5.1852, 3.4865, 4.5669, 4.359...</td>\n",
              "      <td>[.text, .data, .rdata, .buildid, .pdata, .xdat...</td>\n",
              "      <td>[73728, 512, 3584, 512, 1024, 1024, 0, 512, 35...</td>\n",
              "      <td>[252748, 6956, 59982, 1079, 59987, 11635, 5999...</td>\n",
              "      <td>[378642, 773385, 83865, 15692, 83872, 15696, 8...</td>\n",
              "      <td>1</td>\n",
              "      <td>1</td>\n",
              "      <td>1</td>\n",
              "    </tr>\n",
              "    <tr>\n",
              "      <th>4</th>\n",
              "      <td>0005b47f949796d6c0689320f6c96518c681c92bd7b65f...</td>\n",
              "      <td>0</td>\n",
              "      <td>[5.8082, -0.0, 4.4727, 5.7763]</td>\n",
              "      <td>[.text, .data, .rsrc, .reloc]</td>\n",
              "      <td>[139264, 4096, 16384, 16384]</td>\n",
              "      <td>[8501, 8940, 7901, 7902, 7903, 8502, 8503, 850...</td>\n",
              "      <td>[10409, 10954, 10410, 10411, 10412, 10413, 104...</td>\n",
              "      <td>0</td>\n",
              "      <td>1</td>\n",
              "      <td>1</td>\n",
              "    </tr>\n",
              "    <tr>\n",
              "      <th>...</th>\n",
              "      <td>...</td>\n",
              "      <td>...</td>\n",
              "      <td>...</td>\n",
              "      <td>...</td>\n",
              "      <td>...</td>\n",
              "      <td>...</td>\n",
              "      <td>...</td>\n",
              "      <td>...</td>\n",
              "      <td>...</td>\n",
              "      <td>...</td>\n",
              "    </tr>\n",
              "    <tr>\n",
              "      <th>169995</th>\n",
              "      <td>fffe4814bd4e333d91f710df8ec2e56e31ff8afb13099b...</td>\n",
              "      <td>1</td>\n",
              "      <td>[6.2354, 6.5561, -0.0, 5.077, 3.5596, 4.8273]</td>\n",
              "      <td>[.text, .data, .bss, .idata, .rsrc, .reloc]</td>\n",
              "      <td>[4608, 115712, 0, 2048, 5120, 512]</td>\n",
              "      <td>[23, 31, 320, 294, 394, 10, 52, 54, 389, 7169,...</td>\n",
              "      <td>[23, 31, 325, 299, 399, 10, 52, 54, 394, 8734,...</td>\n",
              "      <td>1</td>\n",
              "      <td>1</td>\n",
              "      <td>1</td>\n",
              "    </tr>\n",
              "    <tr>\n",
              "      <th>169996</th>\n",
              "      <td>fffe8eafb43ce2181cb124413f2d54bf12ab99815922ab...</td>\n",
              "      <td>1</td>\n",
              "      <td>[4.7255, -0.0, 4.2237]</td>\n",
              "      <td>[.text, .data, .rsrc]</td>\n",
              "      <td>[45056, 0, 24576]</td>\n",
              "      <td>[7982, 5753, 7918, 5891, 4568, 8533, 8536, 792...</td>\n",
              "      <td>[9719, 18376, 18377, 9722, 10456, 10470, 10475...</td>\n",
              "      <td>1</td>\n",
              "      <td>1</td>\n",
              "      <td>1</td>\n",
              "    </tr>\n",
              "    <tr>\n",
              "      <th>169997</th>\n",
              "      <td>ffff49525f240d58e198ca4e08ea1a7fe1632bf0411950...</td>\n",
              "      <td>-1</td>\n",
              "      <td>[5.8094, -0.0, 4.0115]</td>\n",
              "      <td>[.text, .data, .rsrc]</td>\n",
              "      <td>[147456, 4096, 12288]</td>\n",
              "      <td>[8940, 8501, 55789, 7902, 7903, 8502, 7904, 79...</td>\n",
              "      <td>[10954, 10409, 78314, 10411, 10412, 10413, 104...</td>\n",
              "      <td>0</td>\n",
              "      <td>1</td>\n",
              "      <td>1</td>\n",
              "    </tr>\n",
              "    <tr>\n",
              "      <th>169998</th>\n",
              "      <td>ffff9a65324d628e3ef0a830f5460fda18acaa02279158...</td>\n",
              "      <td>1</td>\n",
              "      <td>[5.6962, -0.0, 4.7162]</td>\n",
              "      <td>[.text, .data, .rsrc]</td>\n",
              "      <td>[28672, 4096, 266240]</td>\n",
              "      <td>[7902, 7903, 7904, 8507, 7908, 7910, 7912, 851...</td>\n",
              "      <td>[10411, 10412, 10416, 10419, 10423, 10426, 104...</td>\n",
              "      <td>0</td>\n",
              "      <td>1</td>\n",
              "      <td>1</td>\n",
              "    </tr>\n",
              "    <tr>\n",
              "      <th>169999</th>\n",
              "      <td>ffffe3ba2c2484d07b7104bcd8ce3da8f92e21f6d41b8d...</td>\n",
              "      <td>1</td>\n",
              "      <td>[5.8064, 0.1623, 1.4057, 3.9147, 4.6137, 2.7517]</td>\n",
              "      <td>[.text, .rdata, .data, .idata, .reloc, .edata]</td>\n",
              "      <td>[1536, 84, 172, 620, 152, 64]</td>\n",
              "      <td>[17, 66133, 23, 39, 1010, 44, 773, 2189, 10308...</td>\n",
              "      <td>[8056, 91597, 8048, 35337, 36119, 12305, 19132...</td>\n",
              "      <td>0</td>\n",
              "      <td>0</td>\n",
              "      <td>0</td>\n",
              "    </tr>\n",
              "  </tbody>\n",
              "</table>\n",
              "<p>170000 rows × 10 columns</p>\n",
              "</div>"
            ],
            "text/plain": [
              "                                                   sha256  ...  cond_1or2\n",
              "0       000154a86a617128b26fabf904e5705e17d2247ca38405...  ...          0\n",
              "1       0003de45dfae52bdf19b846e7cae96cf2a5375a8147d9a...  ...          0\n",
              "2       0003e6f98f4cb8a10fd64b06d3f48b5ffee4e331f06999...  ...          1\n",
              "3       0004d5441cc954466cef2b89414aa24d7ab63426326da2...  ...          1\n",
              "4       0005b47f949796d6c0689320f6c96518c681c92bd7b65f...  ...          1\n",
              "...                                                   ...  ...        ...\n",
              "169995  fffe4814bd4e333d91f710df8ec2e56e31ff8afb13099b...  ...          1\n",
              "169996  fffe8eafb43ce2181cb124413f2d54bf12ab99815922ab...  ...          1\n",
              "169997  ffff49525f240d58e198ca4e08ea1a7fe1632bf0411950...  ...          1\n",
              "169998  ffff9a65324d628e3ef0a830f5460fda18acaa02279158...  ...          1\n",
              "169999  ffffe3ba2c2484d07b7104bcd8ce3da8f92e21f6d41b8d...  ...          0\n",
              "\n",
              "[170000 rows x 10 columns]"
            ]
          },
          "metadata": {},
          "execution_count": 5
        }
      ]
    },
    {
      "cell_type": "code",
      "metadata": {
        "colab": {
          "base_uri": "https://localhost:8080/"
        },
        "id": "JL1fNToBumc8",
        "outputId": "c0d56cb0-1790-4927-e420-3c9cfff73926"
      },
      "source": [
        "max_len = 0\n",
        "for functions in train_df['imports1']:\n",
        "    max_len = max(max_len, len(functions))\n",
        "print('가장 많은 함수를 호출한 파일의 함수 호출 개수', max_len)\n",
        "\n",
        "count = 0\n",
        "for functions in test_df['imports1']:\n",
        "    for dll_func in functions:\n",
        "        if dll_func == -1:\n",
        "            count += 1\n",
        "\n",
        "print('학습되지 못한 \"dll + 함수명\"의 개수', count)"
      ],
      "execution_count": 6,
      "outputs": [
        {
          "output_type": "stream",
          "name": "stdout",
          "text": [
            "가장 많은 함수를 호출한 파일의 함수 호출 개수 3871603\n",
            "학습되지 못한 \"dll + 함수명\"의 개수 0\n"
          ]
        }
      ]
    },
    {
      "cell_type": "code",
      "metadata": {
        "id": "5g9G5G3D7w_K"
      },
      "source": [
        "# DataFrame 저장\n",
        "train_df.to_csv('/content/drive/MyDrive/최종프로젝트_7조/dataset/train_main_features_NJ.csv')\n",
        "test_df.to_csv('/content/drive/MyDrive/최종프로젝트_7조/dataset/test_main_features_NJ.csv')"
      ],
      "execution_count": 7,
      "outputs": []
    },
    {
      "cell_type": "markdown",
      "metadata": {
        "id": "7Qfwzp77yunN"
      },
      "source": [
        "# EDA"
      ]
    },
    {
      "cell_type": "code",
      "metadata": {
        "colab": {
          "base_uri": "https://localhost:8080/",
          "height": 172
        },
        "id": "MZnb_6_Gwy8x",
        "outputId": "8ea6f0a5-5e8a-4ec7-e0ce-0f3b3e7be5d6"
      },
      "source": [
        "train_pivot_df = train_df.pivot_table(index='label', columns='cond_1or2', values='sha256', aggfunc='count')\n",
        "train_pivot_df"
      ],
      "execution_count": 8,
      "outputs": [
        {
          "output_type": "execute_result",
          "data": {
            "text/html": [
              "<div>\n",
              "<style scoped>\n",
              "    .dataframe tbody tr th:only-of-type {\n",
              "        vertical-align: middle;\n",
              "    }\n",
              "\n",
              "    .dataframe tbody tr th {\n",
              "        vertical-align: top;\n",
              "    }\n",
              "\n",
              "    .dataframe thead th {\n",
              "        text-align: right;\n",
              "    }\n",
              "</style>\n",
              "<table border=\"1\" class=\"dataframe\">\n",
              "  <thead>\n",
              "    <tr style=\"text-align: right;\">\n",
              "      <th>cond_1or2</th>\n",
              "      <th>0</th>\n",
              "      <th>1</th>\n",
              "    </tr>\n",
              "    <tr>\n",
              "      <th>label</th>\n",
              "      <th></th>\n",
              "      <th></th>\n",
              "    </tr>\n",
              "  </thead>\n",
              "  <tbody>\n",
              "    <tr>\n",
              "      <th>-1</th>\n",
              "      <td>132392</td>\n",
              "      <td>167608</td>\n",
              "    </tr>\n",
              "    <tr>\n",
              "      <th>0</th>\n",
              "      <td>208276</td>\n",
              "      <td>91724</td>\n",
              "    </tr>\n",
              "    <tr>\n",
              "      <th>1</th>\n",
              "      <td>91483</td>\n",
              "      <td>208517</td>\n",
              "    </tr>\n",
              "  </tbody>\n",
              "</table>\n",
              "</div>"
            ],
            "text/plain": [
              "cond_1or2       0       1\n",
              "label                    \n",
              "-1         132392  167608\n",
              " 0         208276   91724\n",
              " 1          91483  208517"
            ]
          },
          "metadata": {},
          "execution_count": 8
        }
      ]
    },
    {
      "cell_type": "code",
      "metadata": {
        "colab": {
          "base_uri": "https://localhost:8080/",
          "height": 297
        },
        "id": "Fh16GrEbytsq",
        "outputId": "9029a186-20a2-4a31-e8b2-75e7518750a3"
      },
      "source": [
        "train_pivot_df.plot.bar(stacked=True)"
      ],
      "execution_count": 9,
      "outputs": [
        {
          "output_type": "execute_result",
          "data": {
            "text/plain": [
              "<matplotlib.axes._subplots.AxesSubplot at 0x7f7bdac6c1d0>"
            ]
          },
          "metadata": {},
          "execution_count": 9
        },
        {
          "output_type": "display_data",
          "data": {
            "image/png": "[encoded data removed]",
            "text/plain": [
              "<Figure size 432x288 with 1 Axes>"
            ]
          },
          "metadata": {
            "needs_background": "light"
          }
        }
      ]
    },
    {
      "cell_type": "markdown",
      "metadata": {
        "id": "0T6EZSLK0tmg"
      },
      "source": [
        "# word2vec"
      ]
    },
    {
      "cell_type": "code",
      "metadata": {
        "id": "tRpEAz-1020Q"
      },
      "source": [
        "import pandas as pd\n",
        "from gensim.models import Word2Vec\n",
        "from tensorflow.keras.models import Sequential\n",
        "from tensorflow.keras.layers import Dense, LSTM\n",
        "from tensorflow.keras.optimizers import Adam"
      ],
      "execution_count": 1,
      "outputs": []
    },
    {
      "cell_type": "code",
      "metadata": {
        "id": "IIAZmdYE2tcM"
      },
      "source": [
        "# RAM 터져서 세션 다운되서 다시 부름\n",
        "train_df = pd.read_csv('/content/drive/MyDrive/최종프로젝트_7조/dataset/train_main_features_NJ.csv')\n",
        "test_df = pd.read_csv('/content/drive/MyDrive/최종프로젝트_7조/dataset/test_main_features_NJ.csv')"
      ],
      "execution_count": 2,
      "outputs": []
    },
    {
      "cell_type": "code",
      "metadata": {
        "id": "RwRlHZLb_1Rd"
      },
      "source": [
        "train_df = train_df.loc[:100]\n",
        "test_df = test_df.loc[:100]"
      ],
      "execution_count": 3,
      "outputs": []
    },
    {
      "cell_type": "code",
      "metadata": {
        "id": "odpvnTL42LSW"
      },
      "source": [
        "x_train, y_train = train_df['imports1'], train_df['label']\n",
        "x_test, y_test = test_df['imports1'], test_df['label']"
      ],
      "execution_count": 13,
      "outputs": []
    },
    {
      "cell_type": "code",
      "metadata": {
        "id": "5-m2WZ-m6Zot"
      },
      "source": [
        "x_train = list(map(lambda x: eval(x), x_train))\n",
        "x_test = list(map(lambda x: eval(x), x_test))"
      ],
      "execution_count": 14,
      "outputs": []
    },
    {
      "cell_type": "code",
      "metadata": {
        "colab": {
          "base_uri": "https://localhost:8080/"
        },
        "id": "vm08d_5A3zxc",
        "outputId": "d297f9e2-3f6a-40cd-b5e5-e3f45ba98520"
      },
      "source": [
        "temp = list()\n",
        "less100 = 0\n",
        "more100 = 0\n",
        "for x in train_df['imports1']:\n",
        "    len_x = len(x)\n",
        "    temp.append(len_x)\n",
        "    if len_x > 100:\n",
        "        more100 += 1\n",
        "    else:\n",
        "        less100 += 1\n",
        "print(less100, more100)"
      ],
      "execution_count": 12,
      "outputs": [
        {
          "output_type": "stream",
          "name": "stdout",
          "text": [
            "379321 520679\n"
          ]
        }
      ]
    },
    {
      "cell_type": "code",
      "metadata": {
        "colab": {
          "base_uri": "https://localhost:8080/",
          "height": 334
        },
        "id": "dY-ahLzI17FF",
        "outputId": "8b28ed9b-f16d-4495-ba75-aa8c78ca767a"
      },
      "source": [
        "word2vector = Word2Vec(x_train, size=100)"
      ],
      "execution_count": 15,
      "outputs": [
        {
          "output_type": "error",
          "ename": "TypeError",
          "evalue": "ignored",
          "traceback": [
            "\u001b[0;31m---------------------------------------------------------------------------\u001b[0m",
            "\u001b[0;31mTypeError\u001b[0m                                 Traceback (most recent call last)",
            "\u001b[0;32m<ipython-input-15-229eebb4657b>\u001b[0m in \u001b[0;36m<module>\u001b[0;34m()\u001b[0m\n\u001b[1;32m      1\u001b[0m \u001b[0;31m# 15~20분인가?\u001b[0m\u001b[0;34m\u001b[0m\u001b[0;34m\u001b[0m\u001b[0;34m\u001b[0m\u001b[0m\n\u001b[0;32m----> 2\u001b[0;31m \u001b[0mword2vector\u001b[0m \u001b[0;34m=\u001b[0m \u001b[0mWord2Vec\u001b[0m\u001b[0;34m(\u001b[0m\u001b[0mx_train\u001b[0m\u001b[0;34m,\u001b[0m \u001b[0msize\u001b[0m\u001b[0;34m=\u001b[0m\u001b[0;36m100\u001b[0m\u001b[0;34m)\u001b[0m\u001b[0;34m\u001b[0m\u001b[0;34m\u001b[0m\u001b[0m\n\u001b[0m",
            "\u001b[0;32m/usr/local/lib/python3.7/dist-packages/gensim/models/word2vec.py\u001b[0m in \u001b[0;36m__init__\u001b[0;34m(self, sentences, corpus_file, size, alpha, window, min_count, max_vocab_size, sample, seed, workers, min_alpha, sg, hs, negative, ns_exponent, cbow_mean, hashfxn, iter, null_word, trim_rule, sorted_vocab, batch_words, compute_loss, callbacks, max_final_vocab)\u001b[0m\n\u001b[1;32m    765\u001b[0m             \u001b[0mcallbacks\u001b[0m\u001b[0;34m=\u001b[0m\u001b[0mcallbacks\u001b[0m\u001b[0;34m,\u001b[0m \u001b[0mbatch_words\u001b[0m\u001b[0;34m=\u001b[0m\u001b[0mbatch_words\u001b[0m\u001b[0;34m,\u001b[0m \u001b[0mtrim_rule\u001b[0m\u001b[0;34m=\u001b[0m\u001b[0mtrim_rule\u001b[0m\u001b[0;34m,\u001b[0m \u001b[0msg\u001b[0m\u001b[0;34m=\u001b[0m\u001b[0msg\u001b[0m\u001b[0;34m,\u001b[0m \u001b[0malpha\u001b[0m\u001b[0;34m=\u001b[0m\u001b[0malpha\u001b[0m\u001b[0;34m,\u001b[0m \u001b[0mwindow\u001b[0m\u001b[0;34m=\u001b[0m\u001b[0mwindow\u001b[0m\u001b[0;34m,\u001b[0m\u001b[0;34m\u001b[0m\u001b[0;34m\u001b[0m\u001b[0m\n\u001b[1;32m    766\u001b[0m             \u001b[0mseed\u001b[0m\u001b[0;34m=\u001b[0m\u001b[0mseed\u001b[0m\u001b[0;34m,\u001b[0m \u001b[0mhs\u001b[0m\u001b[0;34m=\u001b[0m\u001b[0mhs\u001b[0m\u001b[0;34m,\u001b[0m \u001b[0mnegative\u001b[0m\u001b[0;34m=\u001b[0m\u001b[0mnegative\u001b[0m\u001b[0;34m,\u001b[0m \u001b[0mcbow_mean\u001b[0m\u001b[0;34m=\u001b[0m\u001b[0mcbow_mean\u001b[0m\u001b[0;34m,\u001b[0m \u001b[0mmin_alpha\u001b[0m\u001b[0;34m=\u001b[0m\u001b[0mmin_alpha\u001b[0m\u001b[0;34m,\u001b[0m \u001b[0mcompute_loss\u001b[0m\u001b[0;34m=\u001b[0m\u001b[0mcompute_loss\u001b[0m\u001b[0;34m,\u001b[0m\u001b[0;34m\u001b[0m\u001b[0;34m\u001b[0m\u001b[0m\n\u001b[0;32m--> 767\u001b[0;31m             fast_version=FAST_VERSION)\n\u001b[0m\u001b[1;32m    768\u001b[0m \u001b[0;34m\u001b[0m\u001b[0m\n\u001b[1;32m    769\u001b[0m     def _do_train_epoch(self, corpus_file, thread_id, offset, cython_vocab, thread_private_mem, cur_epoch,\n",
            "\u001b[0;32m/usr/local/lib/python3.7/dist-packages/gensim/models/base_any2vec.py\u001b[0m in \u001b[0;36m__init__\u001b[0;34m(self, sentences, corpus_file, workers, vector_size, epochs, callbacks, batch_words, trim_rule, sg, alpha, window, seed, hs, negative, ns_exponent, cbow_mean, min_alpha, compute_loss, fast_version, **kwargs)\u001b[0m\n\u001b[1;32m    757\u001b[0m                 \u001b[0;32mraise\u001b[0m \u001b[0mTypeError\u001b[0m\u001b[0;34m(\u001b[0m\u001b[0;34m\"You can't pass a generator as the sentences argument. Try an iterator.\"\u001b[0m\u001b[0;34m)\u001b[0m\u001b[0;34m\u001b[0m\u001b[0;34m\u001b[0m\u001b[0m\n\u001b[1;32m    758\u001b[0m \u001b[0;34m\u001b[0m\u001b[0m\n\u001b[0;32m--> 759\u001b[0;31m             \u001b[0mself\u001b[0m\u001b[0;34m.\u001b[0m\u001b[0mbuild_vocab\u001b[0m\u001b[0;34m(\u001b[0m\u001b[0msentences\u001b[0m\u001b[0;34m=\u001b[0m\u001b[0msentences\u001b[0m\u001b[0;34m,\u001b[0m \u001b[0mcorpus_file\u001b[0m\u001b[0;34m=\u001b[0m\u001b[0mcorpus_file\u001b[0m\u001b[0;34m,\u001b[0m \u001b[0mtrim_rule\u001b[0m\u001b[0;34m=\u001b[0m\u001b[0mtrim_rule\u001b[0m\u001b[0;34m)\u001b[0m\u001b[0;34m\u001b[0m\u001b[0;34m\u001b[0m\u001b[0m\n\u001b[0m\u001b[1;32m    760\u001b[0m             self.train(\n\u001b[1;32m    761\u001b[0m                 \u001b[0msentences\u001b[0m\u001b[0;34m=\u001b[0m\u001b[0msentences\u001b[0m\u001b[0;34m,\u001b[0m \u001b[0mcorpus_file\u001b[0m\u001b[0;34m=\u001b[0m\u001b[0mcorpus_file\u001b[0m\u001b[0;34m,\u001b[0m \u001b[0mtotal_examples\u001b[0m\u001b[0;34m=\u001b[0m\u001b[0mself\u001b[0m\u001b[0;34m.\u001b[0m\u001b[0mcorpus_count\u001b[0m\u001b[0;34m,\u001b[0m\u001b[0;34m\u001b[0m\u001b[0;34m\u001b[0m\u001b[0m\n",
            "\u001b[0;32m/usr/local/lib/python3.7/dist-packages/gensim/models/base_any2vec.py\u001b[0m in \u001b[0;36mbuild_vocab\u001b[0;34m(self, sentences, corpus_file, update, progress_per, keep_raw_vocab, trim_rule, **kwargs)\u001b[0m\n\u001b[1;32m    941\u001b[0m             trim_rule=trim_rule, **kwargs)\n\u001b[1;32m    942\u001b[0m         \u001b[0mreport_values\u001b[0m\u001b[0;34m[\u001b[0m\u001b[0;34m'memory'\u001b[0m\u001b[0;34m]\u001b[0m \u001b[0;34m=\u001b[0m \u001b[0mself\u001b[0m\u001b[0;34m.\u001b[0m\u001b[0mestimate_memory\u001b[0m\u001b[0;34m(\u001b[0m\u001b[0mvocab_size\u001b[0m\u001b[0;34m=\u001b[0m\u001b[0mreport_values\u001b[0m\u001b[0;34m[\u001b[0m\u001b[0;34m'num_retained_words'\u001b[0m\u001b[0;34m]\u001b[0m\u001b[0;34m)\u001b[0m\u001b[0;34m\u001b[0m\u001b[0;34m\u001b[0m\u001b[0m\n\u001b[0;32m--> 943\u001b[0;31m         \u001b[0mself\u001b[0m\u001b[0;34m.\u001b[0m\u001b[0mtrainables\u001b[0m\u001b[0;34m.\u001b[0m\u001b[0mprepare_weights\u001b[0m\u001b[0;34m(\u001b[0m\u001b[0mself\u001b[0m\u001b[0;34m.\u001b[0m\u001b[0mhs\u001b[0m\u001b[0;34m,\u001b[0m \u001b[0mself\u001b[0m\u001b[0;34m.\u001b[0m\u001b[0mnegative\u001b[0m\u001b[0;34m,\u001b[0m \u001b[0mself\u001b[0m\u001b[0;34m.\u001b[0m\u001b[0mwv\u001b[0m\u001b[0;34m,\u001b[0m \u001b[0mupdate\u001b[0m\u001b[0;34m=\u001b[0m\u001b[0mupdate\u001b[0m\u001b[0;34m,\u001b[0m \u001b[0mvocabulary\u001b[0m\u001b[0;34m=\u001b[0m\u001b[0mself\u001b[0m\u001b[0;34m.\u001b[0m\u001b[0mvocabulary\u001b[0m\u001b[0;34m)\u001b[0m\u001b[0;34m\u001b[0m\u001b[0;34m\u001b[0m\u001b[0m\n\u001b[0m\u001b[1;32m    944\u001b[0m \u001b[0;34m\u001b[0m\u001b[0m\n\u001b[1;32m    945\u001b[0m     \u001b[0;32mdef\u001b[0m \u001b[0mbuild_vocab_from_freq\u001b[0m\u001b[0;34m(\u001b[0m\u001b[0mself\u001b[0m\u001b[0;34m,\u001b[0m \u001b[0mword_freq\u001b[0m\u001b[0;34m,\u001b[0m \u001b[0mkeep_raw_vocab\u001b[0m\u001b[0;34m=\u001b[0m\u001b[0;32mFalse\u001b[0m\u001b[0;34m,\u001b[0m \u001b[0mcorpus_count\u001b[0m\u001b[0;34m=\u001b[0m\u001b[0;32mNone\u001b[0m\u001b[0;34m,\u001b[0m \u001b[0mtrim_rule\u001b[0m\u001b[0;34m=\u001b[0m\u001b[0;32mNone\u001b[0m\u001b[0;34m,\u001b[0m \u001b[0mupdate\u001b[0m\u001b[0;34m=\u001b[0m\u001b[0;32mFalse\u001b[0m\u001b[0;34m)\u001b[0m\u001b[0;34m:\u001b[0m\u001b[0;34m\u001b[0m\u001b[0;34m\u001b[0m\u001b[0m\n",
            "\u001b[0;32m/usr/local/lib/python3.7/dist-packages/gensim/models/word2vec.py\u001b[0m in \u001b[0;36mprepare_weights\u001b[0;34m(self, hs, negative, wv, update, vocabulary)\u001b[0m\n\u001b[1;32m   1820\u001b[0m         \u001b[0;31m# set initial input/projection and hidden weights\u001b[0m\u001b[0;34m\u001b[0m\u001b[0;34m\u001b[0m\u001b[0;34m\u001b[0m\u001b[0m\n\u001b[1;32m   1821\u001b[0m         \u001b[0;32mif\u001b[0m \u001b[0;32mnot\u001b[0m \u001b[0mupdate\u001b[0m\u001b[0;34m:\u001b[0m\u001b[0;34m\u001b[0m\u001b[0;34m\u001b[0m\u001b[0m\n\u001b[0;32m-> 1822\u001b[0;31m             \u001b[0mself\u001b[0m\u001b[0;34m.\u001b[0m\u001b[0mreset_weights\u001b[0m\u001b[0;34m(\u001b[0m\u001b[0mhs\u001b[0m\u001b[0;34m,\u001b[0m \u001b[0mnegative\u001b[0m\u001b[0;34m,\u001b[0m \u001b[0mwv\u001b[0m\u001b[0;34m)\u001b[0m\u001b[0;34m\u001b[0m\u001b[0;34m\u001b[0m\u001b[0m\n\u001b[0m\u001b[1;32m   1823\u001b[0m         \u001b[0;32melse\u001b[0m\u001b[0;34m:\u001b[0m\u001b[0;34m\u001b[0m\u001b[0;34m\u001b[0m\u001b[0m\n\u001b[1;32m   1824\u001b[0m             \u001b[0mself\u001b[0m\u001b[0;34m.\u001b[0m\u001b[0mupdate_weights\u001b[0m\u001b[0;34m(\u001b[0m\u001b[0mhs\u001b[0m\u001b[0;34m,\u001b[0m \u001b[0mnegative\u001b[0m\u001b[0;34m,\u001b[0m \u001b[0mwv\u001b[0m\u001b[0;34m)\u001b[0m\u001b[0;34m\u001b[0m\u001b[0;34m\u001b[0m\u001b[0m\n",
            "\u001b[0;32m/usr/local/lib/python3.7/dist-packages/gensim/models/word2vec.py\u001b[0m in \u001b[0;36mreset_weights\u001b[0;34m(self, hs, negative, wv)\u001b[0m\n\u001b[1;32m   1837\u001b[0m         \u001b[0;32mfor\u001b[0m \u001b[0mi\u001b[0m \u001b[0;32min\u001b[0m \u001b[0mxrange\u001b[0m\u001b[0;34m(\u001b[0m\u001b[0mlen\u001b[0m\u001b[0;34m(\u001b[0m\u001b[0mwv\u001b[0m\u001b[0;34m.\u001b[0m\u001b[0mvocab\u001b[0m\u001b[0;34m)\u001b[0m\u001b[0;34m)\u001b[0m\u001b[0;34m:\u001b[0m\u001b[0;34m\u001b[0m\u001b[0;34m\u001b[0m\u001b[0m\n\u001b[1;32m   1838\u001b[0m             \u001b[0;31m# construct deterministic seed from word AND seed argument\u001b[0m\u001b[0;34m\u001b[0m\u001b[0;34m\u001b[0m\u001b[0;34m\u001b[0m\u001b[0m\n\u001b[0;32m-> 1839\u001b[0;31m             \u001b[0mwv\u001b[0m\u001b[0;34m.\u001b[0m\u001b[0mvectors\u001b[0m\u001b[0;34m[\u001b[0m\u001b[0mi\u001b[0m\u001b[0;34m]\u001b[0m \u001b[0;34m=\u001b[0m \u001b[0mself\u001b[0m\u001b[0;34m.\u001b[0m\u001b[0mseeded_vector\u001b[0m\u001b[0;34m(\u001b[0m\u001b[0mwv\u001b[0m\u001b[0;34m.\u001b[0m\u001b[0mindex2word\u001b[0m\u001b[0;34m[\u001b[0m\u001b[0mi\u001b[0m\u001b[0;34m]\u001b[0m \u001b[0;34m+\u001b[0m \u001b[0mstr\u001b[0m\u001b[0;34m(\u001b[0m\u001b[0mself\u001b[0m\u001b[0;34m.\u001b[0m\u001b[0mseed\u001b[0m\u001b[0;34m)\u001b[0m\u001b[0;34m,\u001b[0m \u001b[0mwv\u001b[0m\u001b[0;34m.\u001b[0m\u001b[0mvector_size\u001b[0m\u001b[0;34m)\u001b[0m\u001b[0;34m\u001b[0m\u001b[0;34m\u001b[0m\u001b[0m\n\u001b[0m\u001b[1;32m   1840\u001b[0m         \u001b[0;32mif\u001b[0m \u001b[0mhs\u001b[0m\u001b[0;34m:\u001b[0m\u001b[0;34m\u001b[0m\u001b[0;34m\u001b[0m\u001b[0m\n\u001b[1;32m   1841\u001b[0m             \u001b[0mself\u001b[0m\u001b[0;34m.\u001b[0m\u001b[0msyn1\u001b[0m \u001b[0;34m=\u001b[0m \u001b[0mzeros\u001b[0m\u001b[0;34m(\u001b[0m\u001b[0;34m(\u001b[0m\u001b[0mlen\u001b[0m\u001b[0;34m(\u001b[0m\u001b[0mwv\u001b[0m\u001b[0;34m.\u001b[0m\u001b[0mvocab\u001b[0m\u001b[0;34m)\u001b[0m\u001b[0;34m,\u001b[0m \u001b[0mself\u001b[0m\u001b[0;34m.\u001b[0m\u001b[0mlayer1_size\u001b[0m\u001b[0;34m)\u001b[0m\u001b[0;34m,\u001b[0m \u001b[0mdtype\u001b[0m\u001b[0;34m=\u001b[0m\u001b[0mREAL\u001b[0m\u001b[0;34m)\u001b[0m\u001b[0;34m\u001b[0m\u001b[0;34m\u001b[0m\u001b[0m\n",
            "\u001b[0;31mTypeError\u001b[0m: unsupported operand type(s) for +: 'int' and 'str'"
          ]
        }
      ]
    }
  ]
}