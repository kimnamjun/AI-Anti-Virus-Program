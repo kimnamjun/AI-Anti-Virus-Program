{
  "nbformat": 4,
  "nbformat_minor": 0,
  "metadata": {
    "colab": {
      "name": "변수 선택법 + PCA.ipynb",
      "provenance": [],
      "collapsed_sections": []
    },
    "kernelspec": {
      "name": "python3",
      "display_name": "Python 3"
    },
    "language_info": {
      "name": "python"
    }
  },
  "cells": [
    {
      "cell_type": "markdown",
      "metadata": {
        "id": "bK76u-7WMkKF"
      },
      "source": [
        "**변수 선택법**  \n",
        "label을 결정하는데 있어 중요하지 않은 변수를 제거하는 것\n",
        "\n",
        "**PCA**  \n",
        "변수의 개수를 줄이면서도 원래 데이터를 잘 표현할 수 있도록 하는 것"
      ]
    },
    {
      "cell_type": "code",
      "metadata": {
        "id": "y9S9unJ3l9m4",
        "colab": {
          "base_uri": "https://localhost:8080/"
        },
        "outputId": "11fe2b53-a626-455d-aa7f-7e7f82abb2d4"
      },
      "source": [
        "import numpy as np\n",
        "import pandas as pd\n",
        "import statsmodels.api as sm\n",
        "from sklearn.preprocessing import StandardScaler\n",
        "from sklearn.decomposition import PCA\n",
        "from sklearn.ensemble import RandomForestClassifier\n",
        "from sklearn.metrics import f1_score, accuracy_score\n",
        "import plotly.express as px"
      ],
      "execution_count": 1,
      "outputs": [
        {
          "output_type": "stream",
          "name": "stderr",
          "text": [
            "/usr/local/lib/python3.7/dist-packages/statsmodels/tools/_testing.py:19: FutureWarning: pandas.util.testing is deprecated. Use the functions in the public API at pandas.testing instead.\n",
            "  import pandas.util.testing as tm\n"
          ]
        }
      ]
    },
    {
      "cell_type": "code",
      "metadata": {
        "id": "5MTXjgTLmxNN"
      },
      "source": [
        "# 데이터 불러오기\n",
        "train_df = pd.read_csv('/content/drive/MyDrive/최종프로젝트_7조/dataset/NJ_Dataset/train_features.csv')\n",
        "test_df = pd.read_csv('/content/drive/MyDrive/최종프로젝트_7조/dataset/NJ_Dataset/test_features.csv')\n",
        "\n",
        "train_df = train_df[train_df['label'] != -1]\n",
        "test_df = test_df[test_df['label'] != -1]\n",
        "\n",
        "train_df = train_df.set_index('sha256')\n",
        "test_df = test_df.set_index('sha256')\n",
        "\n",
        "x_train, y_train = train_df.drop('label', axis=1), train_df['label']\n",
        "x_test, y_test = test_df.drop('label', axis=1), test_df['label']"
      ],
      "execution_count": 2,
      "outputs": []
    },
    {
      "cell_type": "code",
      "metadata": {
        "id": "ClAC9_peuXnh"
      },
      "source": [
        "# 스케일 조정\n",
        "scaler = StandardScaler()\n",
        "x_train = pd.DataFrame(scaler.fit_transform(x_train), columns=x_train.columns)\n",
        "x_test = pd.DataFrame(scaler.transform(x_test), columns=x_test.columns)"
      ],
      "execution_count": 3,
      "outputs": []
    },
    {
      "cell_type": "code",
      "metadata": {
        "colab": {
          "base_uri": "https://localhost:8080/"
        },
        "id": "fSGCDONUjsT0",
        "outputId": "03d43407-4535-4979-c578-7ce83fb6eae3"
      },
      "source": [
        "# Random Forest (기본)\n",
        "model = RandomForestClassifier()\n",
        "model.fit(x_train, y_train)\n",
        "y_pred = model.predict(x_test)\n",
        "\n",
        "f1_score(y_test, y_pred), accuracy_score(y_test, y_pred)"
      ],
      "execution_count": 4,
      "outputs": [
        {
          "output_type": "execute_result",
          "data": {
            "text/plain": [
              "(0.9860346590250954, 0.986135)"
            ]
          },
          "metadata": {},
          "execution_count": 4
        }
      ]
    },
    {
      "cell_type": "markdown",
      "metadata": {
        "id": "yPrJU20MhXo7"
      },
      "source": [
        "# 변수 선택법"
      ]
    },
    {
      "cell_type": "code",
      "metadata": {
        "colab": {
          "base_uri": "https://localhost:8080/"
        },
        "id": "7WHW2kIPcLm8",
        "outputId": "dbcc202e-5d8d-4dab-f109-a99cfbe2232c"
      },
      "source": [
        "## 전진 단계별 선택법 : https://zephyrus1111.tistory.com/65\n",
        "variables = x_train.columns.tolist()  # 설명 변수 리스트\n",
        "\n",
        "y = y_train.tolist()  # 반응 변수\n",
        "selected_variables = list()  # 선택된 변수들\n",
        "sl_enter = 0.05\n",
        "sl_remove = 0.05\n",
        "\n",
        "sv_per_step = list()  # 각 스텝별로 선택된 변수들\n",
        "adjusted_r_squared = list()  # 각 스텝별 수정된 결정계수\n",
        "steps = list()  # 스텝\n",
        "step = 0\n",
        "while len(variables) > 0:\n",
        "    remainder = list(set(variables) - set(selected_variables))\n",
        "    pval = pd.Series(index=remainder)  # 변수의 p-value\n",
        "    # 기존에 포함된 변수와 새로운 변수 하나씩 돌아가면서 \n",
        "    # 선형 모형을 적합한다.\n",
        "    for col in remainder: \n",
        "        X = x_train[selected_variables + [col]]\n",
        "        X = sm.add_constant(X)\n",
        "        model = sm.OLS(y,X).fit()\n",
        "        pval[col] = model.pvalues[col]\n",
        " \n",
        "    min_pval = pval.min()\n",
        "    if min_pval < sl_enter:  # 최소 p-value 값이 기준 값보다 작으면 포함\n",
        "        selected_variables.append(pval.idxmin())\n",
        "        # 선택된 변수들에대해서\n",
        "        # 어떤 변수를 제거할지 고른다.\n",
        "        while len(selected_variables) > 0:\n",
        "            selected_X = x_train[selected_variables]\n",
        "            selected_X = sm.add_constant(selected_X)\n",
        "            selected_pval = sm.OLS(y,selected_X).fit().pvalues[1:]  # 절편항의 p-value는 뺀다\n",
        "            max_pval = selected_pval.max()\n",
        "            if max_pval >= sl_remove:  # 최대 p-value값이 기준값보다 크거나 같으면 제외\n",
        "                remove_variable = selected_pval.idxmax()\n",
        "                selected_variables.remove(remove_variable)\n",
        "            else:\n",
        "                break\n",
        "        \n",
        "        step += 1\n",
        "        steps.append(step)\n",
        "        adj_r_squared = sm.OLS(y,sm.add_constant(x_train[selected_variables])).fit().rsquared_adj\n",
        "        adjusted_r_squared.append(adj_r_squared)\n",
        "        sv_per_step.append(selected_variables.copy())\n",
        "    else:\n",
        "        break"
      ],
      "execution_count": 5,
      "outputs": [
        {
          "output_type": "stream",
          "name": "stderr",
          "text": [
            "/usr/local/lib/python3.7/dist-packages/ipykernel_launcher.py:15: DeprecationWarning:\n",
            "\n",
            "The default dtype for empty Series will be 'object' instead of 'float64' in a future version. Specify a dtype explicitly to silence this warning.\n",
            "\n"
          ]
        }
      ]
    },
    {
      "cell_type": "code",
      "metadata": {
        "colab": {
          "base_uri": "https://localhost:8080/"
        },
        "id": "eQqYenswiPkk",
        "outputId": "1a351591-8e68-4d02-a2f6-fb5339784216"
      },
      "source": [
        "# 선택된 변수들\n",
        "x_train = x_train[selected_variables]\n",
        "x_test = x_test[selected_variables]\n",
        "\n",
        "selected_variables"
      ],
      "execution_count": 6,
      "outputs": [
        {
          "output_type": "execute_result",
          "data": {
            "text/plain": [
              "['g_imports',\n",
              " 'g_symbols',\n",
              " 'g_has_relocations',\n",
              " 's_numstrings',\n",
              " 's_printables',\n",
              " 'g_has_resources',\n",
              " 's_entropy',\n",
              " 'g_has_debug',\n",
              " 'h_minor_linker_version',\n",
              " 'g_has_tls',\n",
              " 'g_has_signature',\n",
              " 'h_timestamp',\n",
              " 's_avlength',\n",
              " 's_MZ',\n",
              " 'g_exports',\n",
              " 's_registry',\n",
              " 'h_major_linker_version',\n",
              " 'g_size',\n",
              " 'h_minor_subsystem_version',\n",
              " 'h_sizeof_headers',\n",
              " 'h_major_image_version',\n",
              " 'h_major_operating_system_version',\n",
              " 's_urls',\n",
              " 's_paths',\n",
              " 'h_minor_operating_system_version']"
            ]
          },
          "metadata": {},
          "execution_count": 6
        }
      ]
    },
    {
      "cell_type": "code",
      "metadata": {
        "colab": {
          "base_uri": "https://localhost:8080/"
        },
        "id": "6UtFQDNuyNyR",
        "outputId": "c77fae03-dece-4285-a7fd-cab2bb23412c"
      },
      "source": [
        "# Random Forest (변수 선택법)\n",
        "model = RandomForestClassifier()\n",
        "model.fit(x_train, y_train)\n",
        "y_pred = model.predict(x_test)\n",
        "\n",
        "f1_score(y_test, y_pred), accuracy_score(y_test, y_pred)"
      ],
      "execution_count": 7,
      "outputs": [
        {
          "output_type": "execute_result",
          "data": {
            "text/plain": [
              "(0.9838112369061475, 0.983935)"
            ]
          },
          "metadata": {},
          "execution_count": 7
        }
      ]
    },
    {
      "cell_type": "markdown",
      "metadata": {
        "id": "kUJKvXb-hyjR"
      },
      "source": [
        "# PCA"
      ]
    },
    {
      "cell_type": "code",
      "metadata": {
        "colab": {
          "base_uri": "https://localhost:8080/"
        },
        "id": "b58iI_IXDBn4",
        "outputId": "a07ef09f-d192-4ec1-8293-162f7bc0ce74"
      },
      "source": [
        "# 설명력 확인\n",
        "pca = PCA()\n",
        "pca.fit(x_train)\n",
        "exp_var_cumul = np.cumsum(pca.explained_variance_ratio_)\n",
        "exp_var_cumul"
      ],
      "execution_count": 8,
      "outputs": [
        {
          "output_type": "execute_result",
          "data": {
            "text/plain": [
              "array([0.12347179, 0.20906825, 0.28989579, 0.35024773, 0.40132277,\n",
              "       0.44853576, 0.49279165, 0.53522984, 0.57612029, 0.61628486,\n",
              "       0.65626286, 0.6955874 , 0.73298102, 0.76697328, 0.79873819,\n",
              "       0.82820487, 0.85610692, 0.88212794, 0.9065763 , 0.93067595,\n",
              "       0.9507259 , 0.96923091, 0.98348886, 0.9973516 , 1.        ])"
            ]
          },
          "metadata": {},
          "execution_count": 8
        }
      ]
    },
    {
      "cell_type": "code",
      "metadata": {
        "colab": {
          "base_uri": "https://localhost:8080/",
          "height": 542
        },
        "id": "cLK_Bbg0Nupj",
        "outputId": "c93a848d-1312-4981-d969-a553aabee273"
      },
      "source": [
        "# 변수의 개수와 설명력 관계 그래프 : 사용할 PCA 수 결정\n",
        "px.area(\n",
        "    x=range(1, exp_var_cumul.shape[0] + 1),\n",
        "    y=exp_var_cumul,\n",
        "    labels={'x': '변수 개수', 'y': '변수의 설명력'}\n",
        ")"
      ],
      "execution_count": 9,
      "outputs": [
        {
          "output_type": "display_data",
          "data": {
            "text/html": [
              "<html>\n",
              "<head><meta charset=\"utf-8\" /></head>\n",
              "<body>\n",
              "    <div>\n",
              "            <script src=\"https://cdnjs.cloudflare.com/ajax/libs/mathjax/2.7.5/MathJax.js?config=TeX-AMS-MML_SVG\"></script><script type=\"text/javascript\">if (window.MathJax) {MathJax.Hub.Config({SVG: {font: \"STIX-Web\"}});}</script>\n",
              "                <script type=\"text/javascript\">window.PlotlyConfig = {MathJaxConfig: 'local'};</script>\n",
              "        <script src=\"https://cdn.plot.ly/plotly-latest.min.js\"></script>    \n",
              "            <div id=\"53f57f88-0b2c-48e0-8c50-cbeaad4287e6\" class=\"plotly-graph-div\" style=\"height:525px; width:100%;\"></div>\n",
              "            <script type=\"text/javascript\">\n",
              "                \n",
              "                    window.PLOTLYENV=window.PLOTLYENV || {};\n",
              "                    \n",
              "                if (document.getElementById(\"53f57f88-0b2c-48e0-8c50-cbeaad4287e6\")) {\n",
              "                    Plotly.newPlot(\n",
              "                        '53f57f88-0b2c-48e0-8c50-cbeaad4287e6',\n",
              "                        [{\"hoverlabel\": {\"namelength\": 0}, \"hovertemplate\": \"\\ubcc0\\uc218 \\uac1c\\uc218=%{x}<br>\\ubcc0\\uc218\\uc758 \\uc124\\uba85\\ub825=%{y}\", \"legendgroup\": \"\", \"line\": {\"color\": \"#636efa\"}, \"mode\": \"lines\", \"name\": \"\", \"orientation\": \"v\", \"showlegend\": false, \"stackgroup\": \"1\", \"type\": \"scatter\", \"x\": [1, 2, 3, 4, 5, 6, 7, 8, 9, 10, 11, 12, 13, 14, 15, 16, 17, 18, 19, 20, 21, 22, 23, 24, 25], \"xaxis\": \"x\", \"y\": [0.12347179042927225, 0.20906825375511062, 0.28989579330195203, 0.3502477347880743, 0.40132277282200046, 0.44853575638003834, 0.4927916498937026, 0.5352298399697156, 0.576120288873453, 0.6162848557894438, 0.6562628569969489, 0.6955873974759171, 0.7329810234601655, 0.7669732844849025, 0.798738188780447, 0.82820486664096, 0.8561069172835272, 0.8821279371884422, 0.9065763048236261, 0.930675948860228, 0.950725902884744, 0.9692309133873617, 0.9834888620860426, 0.9973516012507767, 1.0], \"yaxis\": \"y\"}],\n",
              "                        {\"legend\": {\"tracegroupgap\": 0}, \"margin\": {\"t\": 60}, \"template\": {\"data\": {\"bar\": [{\"error_x\": {\"color\": \"#2a3f5f\"}, \"error_y\": {\"color\": \"#2a3f5f\"}, \"marker\": {\"line\": {\"color\": \"#E5ECF6\", \"width\": 0.5}}, \"type\": \"bar\"}], \"barpolar\": [{\"marker\": {\"line\": {\"color\": \"#E5ECF6\", \"width\": 0.5}}, \"type\": \"barpolar\"}], \"carpet\": [{\"aaxis\": {\"endlinecolor\": \"#2a3f5f\", \"gridcolor\": \"white\", \"linecolor\": \"white\", \"minorgridcolor\": \"white\", \"startlinecolor\": \"#2a3f5f\"}, \"baxis\": {\"endlinecolor\": \"#2a3f5f\", \"gridcolor\": \"white\", \"linecolor\": \"white\", \"minorgridcolor\": \"white\", \"startlinecolor\": \"#2a3f5f\"}, \"type\": \"carpet\"}], \"choropleth\": [{\"colorbar\": {\"outlinewidth\": 0, \"ticks\": \"\"}, \"type\": \"choropleth\"}], \"contour\": [{\"colorbar\": {\"outlinewidth\": 0, \"ticks\": \"\"}, \"colorscale\": [[0.0, \"#0d0887\"], [0.1111111111111111, \"#46039f\"], [0.2222222222222222, \"#7201a8\"], [0.3333333333333333, \"#9c179e\"], [0.4444444444444444, \"#bd3786\"], [0.5555555555555556, \"#d8576b\"], [0.6666666666666666, \"#ed7953\"], [0.7777777777777778, \"#fb9f3a\"], [0.8888888888888888, \"#fdca26\"], [1.0, \"#f0f921\"]], \"type\": \"contour\"}], \"contourcarpet\": [{\"colorbar\": {\"outlinewidth\": 0, \"ticks\": \"\"}, \"type\": \"contourcarpet\"}], \"heatmap\": [{\"colorbar\": {\"outlinewidth\": 0, \"ticks\": \"\"}, \"colorscale\": [[0.0, \"#0d0887\"], [0.1111111111111111, \"#46039f\"], [0.2222222222222222, \"#7201a8\"], [0.3333333333333333, \"#9c179e\"], [0.4444444444444444, \"#bd3786\"], [0.5555555555555556, \"#d8576b\"], [0.6666666666666666, \"#ed7953\"], [0.7777777777777778, \"#fb9f3a\"], [0.8888888888888888, \"#fdca26\"], [1.0, \"#f0f921\"]], \"type\": \"heatmap\"}], \"heatmapgl\": [{\"colorbar\": {\"outlinewidth\": 0, \"ticks\": \"\"}, \"colorscale\": [[0.0, \"#0d0887\"], [0.1111111111111111, \"#46039f\"], [0.2222222222222222, \"#7201a8\"], [0.3333333333333333, \"#9c179e\"], [0.4444444444444444, \"#bd3786\"], [0.5555555555555556, \"#d8576b\"], [0.6666666666666666, \"#ed7953\"], [0.7777777777777778, \"#fb9f3a\"], [0.8888888888888888, \"#fdca26\"], [1.0, \"#f0f921\"]], \"type\": \"heatmapgl\"}], \"histogram\": [{\"marker\": {\"colorbar\": {\"outlinewidth\": 0, \"ticks\": \"\"}}, \"type\": \"histogram\"}], \"histogram2d\": [{\"colorbar\": {\"outlinewidth\": 0, \"ticks\": \"\"}, \"colorscale\": [[0.0, \"#0d0887\"], [0.1111111111111111, \"#46039f\"], [0.2222222222222222, \"#7201a8\"], [0.3333333333333333, \"#9c179e\"], [0.4444444444444444, \"#bd3786\"], [0.5555555555555556, \"#d8576b\"], [0.6666666666666666, \"#ed7953\"], [0.7777777777777778, \"#fb9f3a\"], [0.8888888888888888, \"#fdca26\"], [1.0, \"#f0f921\"]], \"type\": \"histogram2d\"}], \"histogram2dcontour\": [{\"colorbar\": {\"outlinewidth\": 0, \"ticks\": \"\"}, \"colorscale\": [[0.0, \"#0d0887\"], [0.1111111111111111, \"#46039f\"], [0.2222222222222222, \"#7201a8\"], [0.3333333333333333, \"#9c179e\"], [0.4444444444444444, \"#bd3786\"], [0.5555555555555556, \"#d8576b\"], [0.6666666666666666, \"#ed7953\"], [0.7777777777777778, \"#fb9f3a\"], [0.8888888888888888, \"#fdca26\"], [1.0, \"#f0f921\"]], \"type\": \"histogram2dcontour\"}], \"mesh3d\": [{\"colorbar\": {\"outlinewidth\": 0, \"ticks\": \"\"}, \"type\": \"mesh3d\"}], \"parcoords\": [{\"line\": {\"colorbar\": {\"outlinewidth\": 0, \"ticks\": \"\"}}, \"type\": \"parcoords\"}], \"pie\": [{\"automargin\": true, \"type\": \"pie\"}], \"scatter\": [{\"marker\": {\"colorbar\": {\"outlinewidth\": 0, \"ticks\": \"\"}}, \"type\": \"scatter\"}], \"scatter3d\": [{\"line\": {\"colorbar\": {\"outlinewidth\": 0, \"ticks\": \"\"}}, \"marker\": {\"colorbar\": {\"outlinewidth\": 0, \"ticks\": \"\"}}, \"type\": \"scatter3d\"}], \"scattercarpet\": [{\"marker\": {\"colorbar\": {\"outlinewidth\": 0, \"ticks\": \"\"}}, \"type\": \"scattercarpet\"}], \"scattergeo\": [{\"marker\": {\"colorbar\": {\"outlinewidth\": 0, \"ticks\": \"\"}}, \"type\": \"scattergeo\"}], \"scattergl\": [{\"marker\": {\"colorbar\": {\"outlinewidth\": 0, \"ticks\": \"\"}}, \"type\": \"scattergl\"}], \"scattermapbox\": [{\"marker\": {\"colorbar\": {\"outlinewidth\": 0, \"ticks\": \"\"}}, \"type\": \"scattermapbox\"}], \"scatterpolar\": [{\"marker\": {\"colorbar\": {\"outlinewidth\": 0, \"ticks\": \"\"}}, \"type\": \"scatterpolar\"}], \"scatterpolargl\": [{\"marker\": {\"colorbar\": {\"outlinewidth\": 0, \"ticks\": \"\"}}, \"type\": \"scatterpolargl\"}], \"scatterternary\": [{\"marker\": {\"colorbar\": {\"outlinewidth\": 0, \"ticks\": \"\"}}, \"type\": \"scatterternary\"}], \"surface\": [{\"colorbar\": {\"outlinewidth\": 0, \"ticks\": \"\"}, \"colorscale\": [[0.0, \"#0d0887\"], [0.1111111111111111, \"#46039f\"], [0.2222222222222222, \"#7201a8\"], [0.3333333333333333, \"#9c179e\"], [0.4444444444444444, \"#bd3786\"], [0.5555555555555556, \"#d8576b\"], [0.6666666666666666, \"#ed7953\"], [0.7777777777777778, \"#fb9f3a\"], [0.8888888888888888, \"#fdca26\"], [1.0, \"#f0f921\"]], \"type\": \"surface\"}], \"table\": [{\"cells\": {\"fill\": {\"color\": \"#EBF0F8\"}, \"line\": {\"color\": \"white\"}}, \"header\": {\"fill\": {\"color\": \"#C8D4E3\"}, \"line\": {\"color\": \"white\"}}, \"type\": \"table\"}]}, \"layout\": {\"annotationdefaults\": {\"arrowcolor\": \"#2a3f5f\", \"arrowhead\": 0, \"arrowwidth\": 1}, \"coloraxis\": {\"colorbar\": {\"outlinewidth\": 0, \"ticks\": \"\"}}, \"colorscale\": {\"diverging\": [[0, \"#8e0152\"], [0.1, \"#c51b7d\"], [0.2, \"#de77ae\"], [0.3, \"#f1b6da\"], [0.4, \"#fde0ef\"], [0.5, \"#f7f7f7\"], [0.6, \"#e6f5d0\"], [0.7, \"#b8e186\"], [0.8, \"#7fbc41\"], [0.9, \"#4d9221\"], [1, \"#276419\"]], \"sequential\": [[0.0, \"#0d0887\"], [0.1111111111111111, \"#46039f\"], [0.2222222222222222, \"#7201a8\"], [0.3333333333333333, \"#9c179e\"], [0.4444444444444444, \"#bd3786\"], [0.5555555555555556, \"#d8576b\"], [0.6666666666666666, \"#ed7953\"], [0.7777777777777778, \"#fb9f3a\"], [0.8888888888888888, \"#fdca26\"], [1.0, \"#f0f921\"]], \"sequentialminus\": [[0.0, \"#0d0887\"], [0.1111111111111111, \"#46039f\"], [0.2222222222222222, \"#7201a8\"], [0.3333333333333333, \"#9c179e\"], [0.4444444444444444, \"#bd3786\"], [0.5555555555555556, \"#d8576b\"], [0.6666666666666666, \"#ed7953\"], [0.7777777777777778, \"#fb9f3a\"], [0.8888888888888888, \"#fdca26\"], [1.0, \"#f0f921\"]]}, \"colorway\": [\"#636efa\", \"#EF553B\", \"#00cc96\", \"#ab63fa\", \"#FFA15A\", \"#19d3f3\", \"#FF6692\", \"#B6E880\", \"#FF97FF\", \"#FECB52\"], \"font\": {\"color\": \"#2a3f5f\"}, \"geo\": {\"bgcolor\": \"white\", \"lakecolor\": \"white\", \"landcolor\": \"#E5ECF6\", \"showlakes\": true, \"showland\": true, \"subunitcolor\": \"white\"}, \"hoverlabel\": {\"align\": \"left\"}, \"hovermode\": \"closest\", \"mapbox\": {\"style\": \"light\"}, \"paper_bgcolor\": \"white\", \"plot_bgcolor\": \"#E5ECF6\", \"polar\": {\"angularaxis\": {\"gridcolor\": \"white\", \"linecolor\": \"white\", \"ticks\": \"\"}, \"bgcolor\": \"#E5ECF6\", \"radialaxis\": {\"gridcolor\": \"white\", \"linecolor\": \"white\", \"ticks\": \"\"}}, \"scene\": {\"xaxis\": {\"backgroundcolor\": \"#E5ECF6\", \"gridcolor\": \"white\", \"gridwidth\": 2, \"linecolor\": \"white\", \"showbackground\": true, \"ticks\": \"\", \"zerolinecolor\": \"white\"}, \"yaxis\": {\"backgroundcolor\": \"#E5ECF6\", \"gridcolor\": \"white\", \"gridwidth\": 2, \"linecolor\": \"white\", \"showbackground\": true, \"ticks\": \"\", \"zerolinecolor\": \"white\"}, \"zaxis\": {\"backgroundcolor\": \"#E5ECF6\", \"gridcolor\": \"white\", \"gridwidth\": 2, \"linecolor\": \"white\", \"showbackground\": true, \"ticks\": \"\", \"zerolinecolor\": \"white\"}}, \"shapedefaults\": {\"line\": {\"color\": \"#2a3f5f\"}}, \"ternary\": {\"aaxis\": {\"gridcolor\": \"white\", \"linecolor\": \"white\", \"ticks\": \"\"}, \"baxis\": {\"gridcolor\": \"white\", \"linecolor\": \"white\", \"ticks\": \"\"}, \"bgcolor\": \"#E5ECF6\", \"caxis\": {\"gridcolor\": \"white\", \"linecolor\": \"white\", \"ticks\": \"\"}}, \"title\": {\"x\": 0.05}, \"xaxis\": {\"automargin\": true, \"gridcolor\": \"white\", \"linecolor\": \"white\", \"ticks\": \"\", \"title\": {\"standoff\": 15}, \"zerolinecolor\": \"white\", \"zerolinewidth\": 2}, \"yaxis\": {\"automargin\": true, \"gridcolor\": \"white\", \"linecolor\": \"white\", \"ticks\": \"\", \"title\": {\"standoff\": 15}, \"zerolinecolor\": \"white\", \"zerolinewidth\": 2}}}, \"xaxis\": {\"anchor\": \"y\", \"domain\": [0.0, 1.0], \"title\": {\"text\": \"\\ubcc0\\uc218 \\uac1c\\uc218\"}}, \"yaxis\": {\"anchor\": \"x\", \"domain\": [0.0, 1.0], \"title\": {\"text\": \"\\ubcc0\\uc218\\uc758 \\uc124\\uba85\\ub825\"}}},\n",
              "                        {\"responsive\": true}\n",
              "                    ).then(function(){\n",
              "                            \n",
              "var gd = document.getElementById('53f57f88-0b2c-48e0-8c50-cbeaad4287e6');\n",
              "var x = new MutationObserver(function (mutations, observer) {{\n",
              "        var display = window.getComputedStyle(gd).display;\n",
              "        if (!display || display === 'none') {{\n",
              "            console.log([gd, 'removed!']);\n",
              "            Plotly.purge(gd);\n",
              "            observer.disconnect();\n",
              "        }}\n",
              "}});\n",
              "\n",
              "// Listen for the removal of the full notebook cells\n",
              "var notebookContainer = gd.closest('#notebook-container');\n",
              "if (notebookContainer) {{\n",
              "    x.observe(notebookContainer, {childList: true});\n",
              "}}\n",
              "\n",
              "// Listen for the clearing of the current output cell\n",
              "var outputEl = gd.closest('.output');\n",
              "if (outputEl) {{\n",
              "    x.observe(outputEl, {childList: true});\n",
              "}}\n",
              "\n",
              "                        })\n",
              "                };\n",
              "                \n",
              "            </script>\n",
              "        </div>\n",
              "</body>\n",
              "</html>"
            ]
          },
          "metadata": {}
        }
      ]
    },
    {
      "cell_type": "markdown",
      "metadata": {
        "id": "snH3buOsOC4r"
      },
      "source": [
        "PCA가 너무 적으면 원래 데이터를 잘 설명하지 못하고 너무 많으면 변수를 축소시키는 의미가 없다."
      ]
    },
    {
      "cell_type": "code",
      "metadata": {
        "id": "vprazYT9nH-_"
      },
      "source": [
        "# 50%를 넘기는 변수 8개를 기준으로 진행\n",
        "N_COMPONENTS = 8\n",
        "pca = PCA(n_components=N_COMPONENTS)\n",
        "pca_train = pca.fit_transform(x_train)\n",
        "pca_test = pca.transform(x_test)"
      ],
      "execution_count": 10,
      "outputs": []
    },
    {
      "cell_type": "code",
      "metadata": {
        "colab": {
          "base_uri": "https://localhost:8080/"
        },
        "id": "n-NeVtAsFZHP",
        "outputId": "6fcd2b0b-c689-47da-94a5-8bd7eac4f937"
      },
      "source": [
        "# PCA(components 9개)의 설명력\n",
        "sum(pca.explained_variance_ratio_)"
      ],
      "execution_count": 11,
      "outputs": [
        {
          "output_type": "execute_result",
          "data": {
            "text/plain": [
              "0.5349995581217004"
            ]
          },
          "metadata": {},
          "execution_count": 11
        }
      ]
    },
    {
      "cell_type": "code",
      "metadata": {
        "colab": {
          "base_uri": "https://localhost:8080/",
          "height": 437
        },
        "id": "kL-6oORZC7of",
        "outputId": "14c8377b-ac32-419d-bfbb-d6c23cd43a3d"
      },
      "source": [
        "# 데이터프레임으로 변환\n",
        "pd.DataFrame(pca_train, columns=[f'PCA{i+1}' for i in range(N_COMPONENTS)])"
      ],
      "execution_count": 12,
      "outputs": [
        {
          "output_type": "execute_result",
          "data": {
            "text/html": [
              "<div>\n",
              "<style scoped>\n",
              "    .dataframe tbody tr th:only-of-type {\n",
              "        vertical-align: middle;\n",
              "    }\n",
              "\n",
              "    .dataframe tbody tr th {\n",
              "        vertical-align: top;\n",
              "    }\n",
              "\n",
              "    .dataframe thead th {\n",
              "        text-align: right;\n",
              "    }\n",
              "</style>\n",
              "<table border=\"1\" class=\"dataframe\">\n",
              "  <thead>\n",
              "    <tr style=\"text-align: right;\">\n",
              "      <th></th>\n",
              "      <th>PCA1</th>\n",
              "      <th>PCA2</th>\n",
              "      <th>PCA3</th>\n",
              "      <th>PCA4</th>\n",
              "      <th>PCA5</th>\n",
              "      <th>PCA6</th>\n",
              "      <th>PCA7</th>\n",
              "      <th>PCA8</th>\n",
              "    </tr>\n",
              "  </thead>\n",
              "  <tbody>\n",
              "    <tr>\n",
              "      <th>0</th>\n",
              "      <td>0.598167</td>\n",
              "      <td>-0.696391</td>\n",
              "      <td>0.385714</td>\n",
              "      <td>0.021177</td>\n",
              "      <td>-0.694376</td>\n",
              "      <td>0.413482</td>\n",
              "      <td>0.425079</td>\n",
              "      <td>-0.057985</td>\n",
              "    </tr>\n",
              "    <tr>\n",
              "      <th>1</th>\n",
              "      <td>0.415171</td>\n",
              "      <td>-1.785572</td>\n",
              "      <td>0.969295</td>\n",
              "      <td>-1.851573</td>\n",
              "      <td>-1.116640</td>\n",
              "      <td>-1.111638</td>\n",
              "      <td>0.611813</td>\n",
              "      <td>0.292474</td>\n",
              "    </tr>\n",
              "    <tr>\n",
              "      <th>2</th>\n",
              "      <td>-0.104198</td>\n",
              "      <td>11.868150</td>\n",
              "      <td>17.908060</td>\n",
              "      <td>-2.149997</td>\n",
              "      <td>0.549648</td>\n",
              "      <td>0.674557</td>\n",
              "      <td>2.719409</td>\n",
              "      <td>-0.813886</td>\n",
              "    </tr>\n",
              "    <tr>\n",
              "      <th>3</th>\n",
              "      <td>0.819653</td>\n",
              "      <td>-1.734550</td>\n",
              "      <td>0.954151</td>\n",
              "      <td>-1.808556</td>\n",
              "      <td>-1.157341</td>\n",
              "      <td>-1.200440</td>\n",
              "      <td>0.001180</td>\n",
              "      <td>0.107620</td>\n",
              "    </tr>\n",
              "    <tr>\n",
              "      <th>4</th>\n",
              "      <td>0.074495</td>\n",
              "      <td>-0.043358</td>\n",
              "      <td>-0.052675</td>\n",
              "      <td>-0.304237</td>\n",
              "      <td>-0.553127</td>\n",
              "      <td>-0.192067</td>\n",
              "      <td>0.406907</td>\n",
              "      <td>-0.190429</td>\n",
              "    </tr>\n",
              "    <tr>\n",
              "      <th>...</th>\n",
              "      <td>...</td>\n",
              "      <td>...</td>\n",
              "      <td>...</td>\n",
              "      <td>...</td>\n",
              "      <td>...</td>\n",
              "      <td>...</td>\n",
              "      <td>...</td>\n",
              "      <td>...</td>\n",
              "    </tr>\n",
              "    <tr>\n",
              "      <th>599995</th>\n",
              "      <td>-0.399919</td>\n",
              "      <td>1.053042</td>\n",
              "      <td>-0.778125</td>\n",
              "      <td>-0.424486</td>\n",
              "      <td>0.516459</td>\n",
              "      <td>-0.416782</td>\n",
              "      <td>0.230769</td>\n",
              "      <td>-0.612208</td>\n",
              "    </tr>\n",
              "    <tr>\n",
              "      <th>599996</th>\n",
              "      <td>-0.273116</td>\n",
              "      <td>-0.579035</td>\n",
              "      <td>0.260567</td>\n",
              "      <td>-0.585059</td>\n",
              "      <td>-0.359482</td>\n",
              "      <td>-0.055326</td>\n",
              "      <td>-0.314781</td>\n",
              "      <td>-0.005606</td>\n",
              "    </tr>\n",
              "    <tr>\n",
              "      <th>599997</th>\n",
              "      <td>-0.478335</td>\n",
              "      <td>-0.670449</td>\n",
              "      <td>0.308242</td>\n",
              "      <td>0.619397</td>\n",
              "      <td>-0.322310</td>\n",
              "      <td>0.163106</td>\n",
              "      <td>0.971858</td>\n",
              "      <td>0.099533</td>\n",
              "    </tr>\n",
              "    <tr>\n",
              "      <th>599998</th>\n",
              "      <td>-0.427842</td>\n",
              "      <td>-0.616242</td>\n",
              "      <td>0.275682</td>\n",
              "      <td>0.676224</td>\n",
              "      <td>-0.099920</td>\n",
              "      <td>0.224303</td>\n",
              "      <td>0.967554</td>\n",
              "      <td>0.058877</td>\n",
              "    </tr>\n",
              "    <tr>\n",
              "      <th>599999</th>\n",
              "      <td>-0.418739</td>\n",
              "      <td>-0.932336</td>\n",
              "      <td>0.664239</td>\n",
              "      <td>-0.605661</td>\n",
              "      <td>0.367915</td>\n",
              "      <td>-0.450753</td>\n",
              "      <td>-1.466420</td>\n",
              "      <td>-0.220369</td>\n",
              "    </tr>\n",
              "  </tbody>\n",
              "</table>\n",
              "<p>600000 rows × 8 columns</p>\n",
              "</div>"
            ],
            "text/plain": [
              "            PCA1       PCA2       PCA3  ...      PCA6      PCA7      PCA8\n",
              "0       0.598167  -0.696391   0.385714  ...  0.413482  0.425079 -0.057985\n",
              "1       0.415171  -1.785572   0.969295  ... -1.111638  0.611813  0.292474\n",
              "2      -0.104198  11.868150  17.908060  ...  0.674557  2.719409 -0.813886\n",
              "3       0.819653  -1.734550   0.954151  ... -1.200440  0.001180  0.107620\n",
              "4       0.074495  -0.043358  -0.052675  ... -0.192067  0.406907 -0.190429\n",
              "...          ...        ...        ...  ...       ...       ...       ...\n",
              "599995 -0.399919   1.053042  -0.778125  ... -0.416782  0.230769 -0.612208\n",
              "599996 -0.273116  -0.579035   0.260567  ... -0.055326 -0.314781 -0.005606\n",
              "599997 -0.478335  -0.670449   0.308242  ...  0.163106  0.971858  0.099533\n",
              "599998 -0.427842  -0.616242   0.275682  ...  0.224303  0.967554  0.058877\n",
              "599999 -0.418739  -0.932336   0.664239  ... -0.450753 -1.466420 -0.220369\n",
              "\n",
              "[600000 rows x 8 columns]"
            ]
          },
          "metadata": {},
          "execution_count": 12
        }
      ]
    },
    {
      "cell_type": "code",
      "metadata": {
        "colab": {
          "base_uri": "https://localhost:8080/"
        },
        "id": "NN3btmkki51H",
        "outputId": "92d31375-7cf2-4832-90ff-f23bd905bfeb"
      },
      "source": [
        "# Random Forest (변수 선택법 + PCA)\n",
        "model = RandomForestClassifier()\n",
        "model.fit(x_train, y_train)\n",
        "y_pred = model.predict(x_test)\n",
        "\n",
        "f1_score(y_test, y_pred), accuracy_score(y_test, y_pred)"
      ],
      "execution_count": 13,
      "outputs": [
        {
          "output_type": "execute_result",
          "data": {
            "text/plain": [
              "(0.9839496221662469, 0.98407)"
            ]
          },
          "metadata": {},
          "execution_count": 13
        }
      ]
    }
  ]
}